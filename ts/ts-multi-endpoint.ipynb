{
 "cells": [
  {
   "cell_type": "code",
   "execution_count": null,
   "metadata": {},
   "outputs": [],
   "source": [
    "%%bash\n",
    "\n",
    "pip install -q torch-model-archiver\n",
    "\n",
    "wget -q https://download.pytorch.org/models/densenet161-8d451a50.pth\n",
    "\n",
    "#git clone https://github.com/pytorch/serve/\n",
    "\n",
    "mkdir models/\n",
    "    \n",
    "torch-model-archiver --model-name densenet161 --version 1.0 \\\n",
    "    --model-file ./serve/examples/image_classifier/densenet_161/model.py \\\n",
    "    --serialized-file densenet161-8d451a50.pth --export-path models \\\n",
    "    --extra-files ./serve/examples/image_classifier/index_to_name.json \\\n",
    "    --handler image_classifier --archive-format tgz"
   ]
  },
  {
   "cell_type": "code",
   "execution_count": null,
   "metadata": {
    "scrolled": true
   },
   "outputs": [],
   "source": [
    "import time\n",
    "import boto3\n",
    "import sagemaker"
   ]
  },
  {
   "cell_type": "code",
   "execution_count": null,
   "metadata": {},
   "outputs": [],
   "source": [
    "# replace with yours\n",
    "region = \"us-west-2\"\n",
    "bucket = \"lninga-mars\"\n",
    "prefix = \"ts-model\"\n",
    "\n",
    "model_name = \"densenet161\"\n",
    "model_name_prefix = \"densenet161\""
   ]
  },
  {
   "cell_type": "code",
   "execution_count": null,
   "metadata": {},
   "outputs": [],
   "source": [
    "# run if you need to make a bunch of model file copies\n",
    "s3 = boto3.client(\"s3\")\n",
    "for i in range(30):\n",
    "    s3.upload_file(\n",
    "        f\"models/{model_name}.tar.gz\",\n",
    "        bucket,\n",
    "        f\"{prefix}/{model_name_prefix}-{i}.tar.gz\")"
   ]
  },
  {
   "cell_type": "code",
   "execution_count": null,
   "metadata": {},
   "outputs": [],
   "source": [
    "sm_client = boto3.client(service_name=\"sagemaker\")"
   ]
  },
  {
   "cell_type": "code",
   "execution_count": null,
   "metadata": {},
   "outputs": [],
   "source": [
    "run_date = time.strftime(\"%Y-%m-%d-%H-%M-%S\", time.gmtime())\n",
    "# store a ts docker image in ECR https://us-east-2.console.aws.amazon.com/ecr/repositories?region=us-east-2\n",
    "container = \"844664758773.dkr.ecr.us-west-2.amazonaws.com/ts_test:v0\"\n",
    "\n",
    "model_url = f\"https://s3-{region}.amazonaws.com/{bucket}/{prefix}/\"\n",
    "\n",
    "base_name = f\"MultiModel-{prefix}-{run_date}\"\n",
    "model_name = f\"{base_name}-Model\"\n",
    "\n",
    "container = {\n",
    "    \"Image\": container,\n",
    "    \"ModelDataUrl\": model_url,\n",
    "    \"Mode\": \"MultiModel\"\n",
    "}\n",
    "\n",
    "create_model_response = sm_client.create_model(\n",
    "    ModelName=model_name,\n",
    "    ExecutionRoleArn=sagemaker.get_execution_role(),\n",
    "    Containers=[container]\n",
    ")\n",
    "print(f\"ModelArn: {create_model_response['ModelArn']}\")\n",
    "\n",
    "endpoint_config_name = f\"{base_name}-EndpointConfig\"\n",
    "create_endpoint_config_response = sm_client.create_endpoint_config(\n",
    "    EndpointConfigName = endpoint_config_name,\n",
    "    ProductionVariants=[{\n",
    "        \"InstanceType\": \"ml.c5.9xlarge\",\n",
    "        \"InitialInstanceCount\": 1,\n",
    "        \"InitialVariantWeight\": 1,\n",
    "        \"ModelName\": model_name,\n",
    "        \"VariantName\": \"AllTraffic\"\n",
    "    }]\n",
    ")\n",
    "print(f\"EndpointConfigArn: {create_endpoint_config_response['EndpointConfigArn']}\")"
   ]
  },
  {
   "cell_type": "code",
   "execution_count": null,
   "metadata": {},
   "outputs": [],
   "source": [
    "create_endpoint_response = sm_client.create_endpoint(\n",
    "    EndpointName=endpoint_name,\n",
    "    EndpointConfigName=endpoint_config_name\n",
    ")\n",
    "print(f\"EndpointArn: {create_endpoint_response['EndpointArn']}\")\n",
    "\n",
    "print(f\"Waiting for {endpoint_name} endpoint to be in service...\")\n",
    "waiter = sm_client.get_waiter(\"endpoint_in_service\")\n",
    "waiter.wait(EndpointName=endpoint_name)"
   ]
  },
  {
   "cell_type": "code",
   "execution_count": null,
   "metadata": {},
   "outputs": [],
   "source": [
    "%%bash \n",
    "# Download Test Image\n",
    "curl -O https://s3.amazonaws.com/model-server/inputs/kitten.jpg"
   ]
  },
  {
   "cell_type": "code",
   "execution_count": null,
   "metadata": {},
   "outputs": [],
   "source": [
    "runtime_sm_client = boto3.client(service_name=\"sagemaker-runtime\")\n",
    "\n",
    "i, num_models, num_invocations = 0, 100, 2\n",
    "#print(num_models, num_invocations, len(payload), time.time())\n",
    "\n",
    "img = open('kitten.jpg', 'rb').read()\n",
    "\n",
    "while i < num_models * num_invocations:\n",
    "    j = i % num_models\n",
    "    start_time = time.time()\n",
    "    response = runtime_sm_client.invoke_endpoint(\n",
    "        EndpointName=endpoint_name,\n",
    "        TargetModel=f\"{model_name_prefix}-{j}.tar.gz\", # this is the rest of the S3 path where the model artifacts are located\n",
    "        ContentType='application/x-image', \n",
    "        Body=bytearray(img)\n",
    "    )\n",
    "    end_time = time.time()\n",
    "    print(j, i, end_time - start_time, end_time)\n",
    "    i = i + 1"
   ]
  },
  {
   "cell_type": "code",
   "execution_count": null,
   "metadata": {},
   "outputs": [],
   "source": [
    "#sm_client.delete_endpoint(EndpointName=endpoint_name)\n",
    "#sm_client.delete_endpoint_config(EndpointConfigName=endpoint_config_name)\n",
    "#sm_client.delete_model(ModelName=model_name)"
   ]
  }
 ],
 "metadata": {
  "kernelspec": {
   "display_name": "conda_python3",
   "language": "python",
   "name": "conda_python3"
  },
  "language_info": {
   "codemirror_mode": {
    "name": "ipython",
    "version": 3
   },
   "file_extension": ".py",
   "mimetype": "text/x-python",
   "name": "python",
   "nbconvert_exporter": "python",
   "pygments_lexer": "ipython3",
   "version": "3.6.10"
  }
 },
 "nbformat": 4,
 "nbformat_minor": 4
}
